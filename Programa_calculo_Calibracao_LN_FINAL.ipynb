{
  "cells": [
    {
      "cell_type": "markdown",
      "metadata": {
        "id": "view-in-github",
        "colab_type": "text"
      },
      "source": [
        "<a href=\"https://colab.research.google.com/github/idrissdeme/Projetos-Python-IRD/blob/main/Programa_calculo_Calibracao_LN_FINAL.ipynb\" target=\"_parent\"><img src=\"https://colab.research.google.com/assets/colab-badge.svg\" alt=\"Open In Colab\"/></a>"
      ]
    },
    {
      "cell_type": "code",
      "execution_count": null,
      "metadata": {
        "id": "XCRCL56ZAQG3"
      },
      "outputs": [],
      "source": [
        "import pandas as pd\n",
        "from math import *\n",
        "import xlrd"
      ]
    },
    {
      "cell_type": "code",
      "source": [
        "from google.colab import drive\n",
        "drive.mount('/content/drive')"
      ],
      "metadata": {
        "id": "IMARubec6sH8"
      },
      "execution_count": null,
      "outputs": []
    },
    {
      "cell_type": "code",
      "execution_count": null,
      "metadata": {
        "id": "YhjtwrW4YIMe"
      },
      "outputs": [],
      "source": [
        "table0 = pd.read_excel('/content/Planilha de calculo de valicao (2).xlsx',sheet_name='Dados_python')\n",
        "#Vamos criar uma nova dataFrame para evitar mexer nos no dataframe originlamente importados\n",
        "display(table0) \n",
        "\n",
        "table = table0   # criação de uma nova daframe com o nome \"tabela\" onde os nome das colunas seraão alterada para fim dos cálculos. Assim temos dois dataFrame\n",
        "# O dataFrame original continua com os mesmos títulos e o dataframe novo tem os nomes de colunas alterados para os cálculos\n",
        "\n",
        "# renomamos as colunas agora no nosso novo data frame\n",
        "table.rename(columns = {'q0':'q0', 'Cont. Decaimento (H)':'Lambida_h', 'Cont. Decaimento (s)':'Lambida_s', 'h*f (10)\\npSv.cm2':'h_10', 'hpf (10; a)\\npSv.cm2':'hp', 'Coeficiente de atenuação \\nlinear (cm-1)':'Sec_choque', 'A':'A','Espalhamento':'E' }, inplace = True)\n",
        "#q0=8;Lambida_h=11; Lambida_s=12; h_10=14; hp=15; Sec_choque=17; A=18; E=19;\n",
        "display(table)"
      ]
    },
    {
      "cell_type": "code",
      "execution_count": null,
      "metadata": {
        "id": "XtwbzNHRMZCG"
      },
      "outputs": [],
      "source": [
        "fonte=0\n",
        "for fonte in [0,1,2,3,4,5,6,7,8,9,10,11,12,13]:\n",
        "  print(fonte, '.','modelo da fonte =',table.iloc[fonte,1], table.iloc[fonte,0])\n",
        "fonte = int(input(\"Índice da Fonte: \"))\n",
        "print(fonte)"
      ]
    },
    {
      "cell_type": "code",
      "execution_count": null,
      "metadata": {
        "id": "hh6zwkJIcOg0"
      },
      "outputs": [],
      "source": [
        "grandeza=0\n",
        "for grandeza in [\"0. Ambiente\",\"1. Individual\",\"2. Fluência\"]:\n",
        "  print(grandeza)\n",
        "grandeza = int(input(\"Grandeza: \"))  \n",
        "print(grandeza)"
      ]
    },
    {
      "cell_type": "code",
      "execution_count": null,
      "metadata": {
        "id": "Etd7ZSi3ldrJ"
      },
      "outputs": [],
      "source": [
        "#CÁLCULO DE FLUÊNCIA\n",
        "d = int(input(\"Distância (em centimetros): \"))\n",
        "t1 = int(input(\"Tempo(em segundos):  \"))\n",
        "phi = (table['q0'][fonte]*table['A'][fonte]*table['E'][fonte]*\n",
        "e**(-table['Sec_choque'][fonte]*d)/(4*pi*d**2))*(1-e**(-table['Lambida_s'][fonte]*\n",
        "t1))/table['Lambida_s'][fonte]\n",
        "print('A fluência é:', round(phi), 'n/cm2')"
      ]
    },
    {
      "cell_type": "code",
      "execution_count": null,
      "metadata": {
        "id": "L842xzGIpbtY",
        "colab": {
          "base_uri": "https://localhost:8080/"
        },
        "outputId": "823935cb-0930-447c-c43d-1879beb2bf3a"
      },
      "outputs": [
        {
          "output_type": "stream",
          "name": "stdout",
          "text": [
            "Distância (em centimetros): 100\n",
            "A taxa de fluência é: 82 n/cm^2/s\n"
          ]
        }
      ],
      "source": [
        "#CÁLCULO Da TAXA DE FLUÊNCIA\n",
        "d = int(input(\"Distância (em centimetros): \"))\n",
        "phi =table['q0'][fonte]*table['A'][fonte]*table['E'][fonte]*e**(-table['Sec_choque'][fonte]*d)/(4*pi*d**2)\n",
        "print('A taxa de fluência é:', round(phi), 'n/cm^2/s')"
      ]
    },
    {
      "cell_type": "code",
      "execution_count": null,
      "metadata": {
        "id": "IZtEm-9RHzPa"
      },
      "outputs": [],
      "source": [
        "#CÁLCULO DO EQUIVALENTE DE DOSE\n",
        "d = int(input(\"Distância (em centimetros): \"))\n",
        "t = int(input(\"Tempo(em horas):  \"))\n",
        "if grandeza==0:\n",
        "  x='h_10' #ambiente\n",
        "  y='ambiente'\n",
        "else:\n",
        "  x='hp' #individual\n",
        "  y='individual'\n",
        "H =(3600*(table[x][fonte]*table['q0'][fonte]*0.000001*\n",
        "table['A'][fonte]*table['E'][fonte]*\n",
        "e**(-table['Sec_choque'][fonte]*d))/(4*pi*d**2))*(1-e**(-table['Lambida_h'][fonte]*t))/table['Lambida_h'][fonte]\n",
        "print('O equivalente de dose',y,'é:', round(H), 'uSv')"
      ]
    },
    {
      "cell_type": "code",
      "execution_count": null,
      "metadata": {
        "id": "mePPfHK6_5X-"
      },
      "outputs": [],
      "source": [
        "#CÁLCULO DA TAXA DE EQUIVALENTE DE DOSE\n",
        "d = int(input(\"Distância: \"))\n",
        "if grandeza==0:\n",
        "  x='h_10' #ambiente\n",
        "  y='ambiente'\n",
        "else:\n",
        "  x='hp' #individual\n",
        "  y='individual'\n",
        "H =(3600*(table[x][fonte]*table['q0'][fonte]*0.000001*\n",
        "table['A'][fonte]*table['E'][fonte]*e**(-table['Sec_choque'][fonte]*d))/(4*pi*d**2))\n",
        "print('A taxa de equivalente de dose',y,'é:', round(H), 'uSv/h')"
      ]
    },
    {
      "cell_type": "code",
      "execution_count": null,
      "metadata": {
        "id": "UeqPNNyhMYiv"
      },
      "outputs": [],
      "source": [
        "#CÁLCULO DO TEMPO DE IRRADIAÇÃO\n",
        "d = int(input(\"Distância (em centimetros): \"))\n",
        "phi=0\n",
        "if grandeza==0:\n",
        "  x='h_10' #ambiente\n",
        "  y='ambiente'\n",
        "  Eq_amb = int(input(\"Equivalente de dose ambiente (em uSv):  \"))\n",
        "  t=-log (1-((Eq_amb*4*pi*d**2*table['Lambida_h'][fonte])/(3600*table[x][fonte]*\n",
        "  0.000001*table['q0'][fonte]*table['A'][fonte]*table['E'][fonte]*e**((-table['Sec_choque'][fonte]*d)))))/table['Lambida_h'][fonte]\n",
        "  print ('O tempo de irradiação do equivalente de dose',y,'é:', round(t,2), 'horas')\n",
        "\n",
        "if grandeza==1:\n",
        "  x='hp' #individual\n",
        "  y='individual'\n",
        "  Eq_ind = int(input(\"Equivalente de dose individual (em uSv):  \"))\n",
        "  t=-log (1-((Eq_ind*4*pi*d**2*table['Lambida_h'][fonte])/(3600*table[x][fonte]*\n",
        "  0.000001*table['q0'][fonte]*table['A'][fonte]*table['E'][fonte]*e**((-table['Sec_choque'][fonte]*d)))))/table['Lambida_h'][fonte]\n",
        "  print ('O tempo de irradiação do equivalente de dose',y,'é:', round(t,2), 'horas')\n",
        " \n",
        "if grandeza==2: #fluencia\n",
        "  phi = float(input(\"Fluência (em n/cm^2):  \"))\n",
        "  t=-log (1-((phi*4*pi*d**2*table['Lambida_s'][fonte])/(table['q0'][fonte]*\n",
        "  table['A'][fonte]*table['E'][fonte]*e**((-table['Sec_choque'][fonte]*d)))))/table['Lambida_s'][fonte]\n",
        "  print ('O tempo de irradiação da fluência é:', round(t,2), 's')"
      ]
    },
    {
      "cell_type": "code",
      "source": [
        "#CALCULO DA DISTÂNCIA - Metodo Newton Raphson\n",
        "\n",
        "#Ambiente\n",
        "if grandeza==0:\n",
        "  x='h_10' #ambiente\n",
        "  Tx_Eq_amb=float(input(\"Taxa Eq Dose Ambiente (em uSv/h): \"))\n",
        "  distancia=0.0001\n",
        "  erro=10000\n",
        "  while erro>=0.00001:\n",
        "    d0=distancia\n",
        "    Fd =2*log(distancia)+table['Sec_choque'][fonte]*distancia-log(3600*0.000001*\n",
        "    table[x][fonte]*table['q0'][fonte]*table['A'][fonte]*table['E'][fonte])*e**(-table['Lambida_h'][fonte])+log(Tx_Eq_amb)+log(4*pi)\n",
        "    Fd_linha=(2/distancia)+table['Sec_choque'][fonte]\n",
        "    distancia=distancia-(Fd/Fd_linha)\n",
        "    erro=distancia-d0\n",
        "  print('A distância é:', round(distancia,1), 'cm')\n",
        "\n",
        "#Individual\n",
        "if grandeza==1:\n",
        "  x='hp' #individual\n",
        "  Tx_Eq_ind=float(input(\"Taxa Eq Dose Individual (em uSv/h): \"))\n",
        "  distancia=0.0001\n",
        "  erro=10000\n",
        "  while erro>=0.00001:\n",
        "    d0=distancia\n",
        "    Fd =2*log(distancia)+table['Sec_choque'][fonte]*distancia-log(3600*0.000001*\n",
        "    table[x][fonte]*table['q0'][fonte]*table['A'][fonte]*table['E'][fonte])*e**(-table['Lambida_h'][fonte])+log(Tx_Eq_ind)+log(4*pi)\n",
        "    Fd_linha=(2/distancia)+table['Sec_choque'][fonte]\n",
        "    distancia=distancia-(Fd/Fd_linha)\n",
        "    erro=distancia-d0\n",
        "  print('A distância é:', round(distancia), 'cm')\n",
        "\n",
        "#Fluência\n",
        "if grandeza==2:\n",
        "  phi=float(input(\"Taxa fluência (em n/cm2/s): \"))\n",
        "  distancia=0.0001\n",
        "  erro=10000\n",
        "  while erro>=0.00001:\n",
        "    d0=distancia\n",
        "    Fd =2*log(distancia)+table['Sec_choque'][fonte]*distancia-log(table['q0'][fonte]*\n",
        "    table['A'][fonte]*table['E'][fonte])*e**(-table['Lambida_s'][fonte])+log(phi)+log(4*pi)\n",
        "    Fd_linha=(2/distancia)+table['Sec_choque'][fonte]\n",
        "    distancia=distancia-(Fd/Fd_linha)\n",
        "    erro=distancia-d0\n",
        "  print('A distância é:', round(distancia,1), 'cm')"
      ],
      "metadata": {
        "id": "naq56FW0eW6K"
      },
      "execution_count": null,
      "outputs": []
    }
  ],
  "metadata": {
    "colab": {
      "provenance": [],
      "include_colab_link": true
    },
    "kernelspec": {
      "display_name": "Python 3",
      "name": "python3"
    }
  },
  "nbformat": 4,
  "nbformat_minor": 0
}