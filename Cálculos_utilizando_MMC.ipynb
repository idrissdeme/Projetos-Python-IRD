{
  "nbformat": 4,
  "nbformat_minor": 0,
  "metadata": {
    "colab": {
      "provenance": [],
      "include_colab_link": true
    },
    "kernelspec": {
      "name": "python3",
      "display_name": "Python 3"
    },
    "language_info": {
      "name": "python"
    }
  },
  "cells": [
    {
      "cell_type": "markdown",
      "metadata": {
        "id": "view-in-github",
        "colab_type": "text"
      },
      "source": [
        "<a href=\"https://colab.research.google.com/github/idrissdeme/Projetos-Python-IRD/blob/main/C%C3%A1lculos_utilizando_MMC.ipynb\" target=\"_parent\"><img src=\"https://colab.research.google.com/assets/colab-badge.svg\" alt=\"Open In Colab\"/></a>"
      ]
    },
    {
      "cell_type": "markdown",
      "source": [
        "**Calculo do número pi** "
      ],
      "metadata": {
        "id": "gsaD0mUb80H6"
      }
    },
    {
      "cell_type": "code",
      "execution_count": null,
      "metadata": {
        "id": "LIftslB18yYq"
      },
      "outputs": [],
      "source": [
        "#Bibliotecas utilizadas nessa simulação:\n",
        "import random\n",
        "import math\n",
        "import matplotlib.pyplot as plt\n",
        "import numpy as np\n",
        "\n",
        "#random.random() -> gera número aleatório entre [0,1]"
      ]
    },
    {
      "cell_type": "code",
      "source": [
        "#Geometria utilizada\n",
        "circle = plt.Circle((0,0), 1, color = 'lightblue')\n",
        "square = plt.Rectangle((-1,-1),2,2,color=\"red\",alpha=0.7)\n",
        "fig, ax = plt.subplots()\n",
        "fig.set_size_inches(4,4)\n",
        "ax.add_patch(square)\n",
        "ax.add_patch(circle)\n",
        "ax.set_xlim(-1,1)\n",
        "ax.set_ylim(-1,1)\n",
        "ax.set_xticks([-1,-0.5,0,0.5,1])\n",
        "ax.set_yticks([-1,-0.5,0,0.5,1])\n",
        "plt.show()"
      ],
      "metadata": {
        "colab": {
          "base_uri": "https://localhost:8080/",
          "height": 269
        },
        "id": "SelREJVF-mlT",
        "outputId": "694c5e03-4c97-4fe2-d65a-08d6c336df07"
      },
      "execution_count": null,
      "outputs": [
        {
          "output_type": "display_data",
          "data": {
            "text/plain": [
              "<Figure size 288x288 with 1 Axes>"
            ],
            "image/png": "[encoded data removed]"
          },
          "metadata": {
            "needs_background": "light"
          }
        }
      ]
    },
    {
      "cell_type": "markdown",
      "source": [
        "Para n= 100"
      ],
      "metadata": {
        "id": "I0AJwwOlhB_M"
      }
    },
    {
      "cell_type": "code",
      "source": [
        "\n",
        "def pi_MC(N,plot = False,verbose=True): #Criação da função que calcula o pi pelo método Monte Carlo\n",
        " if plot:\n",
        "    fig, ax = plt.subplots()\n",
        "    fig.set_size_inches(4,4)\n",
        "    circle = plt.Circle((0,0), 1, color = \"lightblue\")\n",
        "    square = plt.Rectangle((-1,-1),2,2,color = \"red\", alpha = 0.7)\n",
        "    ax.add_patch(square)\n",
        "    ax.add_patch(circle)\n",
        "\n",
        " #Variáveis utilizadas\n",
        " N_in = 0 #pontos dentro do círculo\n",
        " cont = 0\n",
        " #Simulação\n",
        " while (cont<N):\n",
        "   x = 2*random.random() - 1 #Valor do eixo-x. Numero aleatorio entre -1 e 1\n",
        "   y = 2*random.random() - 1 #Valor do eixo-y. Numero aleatorio entre -1 e 1\n",
        "   z = x**2 + y**2 #Formula algébrica do círculo\n",
        "   #Contagem de pontos dentro e fora do circulo\n",
        "   if (z<=1):\n",
        "     N_in+=1\n",
        "     if plot:\n",
        "       ax.plot(x,y,\"o\",color = \"blue\")\n",
        "   else:\n",
        "     if plot:\n",
        "       ax.plot(x,y,\"o\",color = \"pink\")\n",
        "   cont+=1\n",
        " #Valor simulado de pi\n",
        " pi_mc = 4*N_in/N #Equação do calculo de pi por MC (Circunferencia de raio 1 e quadrado de lado 2)\n",
        "\n",
        "#Imprimir texto com resultados\n",
        " if verbose:\n",
        "    print(\"Número de pontos dentro: \",N_in)\n",
        "    print(\"Número de pontos fora: \", N-N_in)\n",
        "    print(\"Valor simulado de pi: \",pi_mc)\n",
        "    print(\"Valor de pi: \",math.pi)\n",
        "    print(\"Erro: \",pi_mc - math.pi)\n",
        "    print(\"Precisão: \",100*(1-abs(pi_mc - math.pi)),\"%\")\n",
        "    print(\"Quantidade de iterações: \",cont)\n",
        "    \n",
        " if plot:\n",
        "    plt.show()\n",
        " return pi_mc\n"
      ],
      "metadata": {
        "id": "8ywe_WnggUB2"
      },
      "execution_count": null,
      "outputs": []
    },
    {
      "cell_type": "code",
      "source": [
        "pi_MC(10000,plot = True)"
      ],
      "metadata": {
        "colab": {
          "base_uri": "https://localhost:8080/",
          "height": 404
        },
        "id": "HyIfq2kCoVGK",
        "outputId": "a5750fe4-9f2b-4936-91dc-ea6cb23ec8a5"
      },
      "execution_count": null,
      "outputs": [
        {
          "output_type": "stream",
          "name": "stdout",
          "text": [
            "Número de pontos dentro:  7896\n",
            "Número de pontos fora:  2104\n",
            "Valor simulado de pi:  3.1584\n",
            "Valor de pi:  3.141592653589793\n",
            "Erro:  0.016807346410206758\n",
            "Precisão:  98.31926535897932 %\n",
            "Quantidade de iterações:  10000\n"
          ]
        },
        {
          "output_type": "display_data",
          "data": {
            "text/plain": [
              "<Figure size 288x288 with 1 Axes>"
            ],
            "image/png": "[encoded data removed]"
          },
          "metadata": {
            "needs_background": "light"
          }
        },
        {
          "output_type": "execute_result",
          "data": {
            "text/plain": [
              "3.1584"
            ]
          },
          "metadata": {},
          "execution_count": 6
        }
      ]
    }
  ]
}